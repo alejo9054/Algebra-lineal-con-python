{
 "cells": [
  {
   "cell_type": "code",
   "execution_count": null,
   "metadata": {},
   "outputs": [],
   "source": [
    "#funcion para graficar como una matriz deforma el espacio\n",
    "def graficarMatriz(matriz, colorVector=['red','blue']):\n",
    "       \n",
    "    #circulo unitario\n",
    "    x = np.linspace(-1,1,100000)\n",
    "    y = np.sqrt(1-(x**2))\n",
    "    \n",
    "    #circulo unitario transformado\n",
    "    #aqui vamos a hacer uso de un producto punto a \"mano\" debido a que al cer un circulo lo que queremos graficar\n",
    "    #tenemos que sacar los valores para la parte positiva y la parte negativa\n",
    "    \n",
    "    #parte positiva\n",
    "    x1 = matriz[0,0]*x + matriz[0,1]*y\n",
    "    y1 = matriz[1,0]*x + matriz[1,1]*y\n",
    "    \n",
    "    #parte negativa\n",
    "    \n",
    "    x1_neg = matriz[0,0]*x - matriz[0,1]*y\n",
    "    y1_neg = matriz[1,0]*x - matriz[1,1]*y\n",
    "    \n",
    "    #vectores Base\n",
    "    i_gorro = [matriz[0,0], matriz[1,0]]\n",
    "    j_gorro = [matriz[0,1], matriz[1,1]]\n",
    "    \n",
    "    #graficando vectores base\n",
    "    graficarVectores2([i_gorro,j_gorro], cols=[colorVector[0],colorVector[1]])\n",
    "    \n",
    "    plt.plot(x1,y1, 'green', alpha= 0.7) #alpha se refiere a la transparencia\n",
    "    plt.plot(x1_neg,y1_neg, 'green', alpha= 0.7) #alpha se refiere a la transparencia"
   ]
  }
 ],
 "metadata": {
  "kernelspec": {
   "display_name": "Python 3",
   "language": "python",
   "name": "python3"
  },
  "language_info": {
   "codemirror_mode": {
    "name": "ipython",
    "version": 3
   },
   "file_extension": ".py",
   "mimetype": "text/x-python",
   "name": "python",
   "nbconvert_exporter": "python",
   "pygments_lexer": "ipython3",
   "version": "3.8.5"
  }
 },
 "nbformat": 4,
 "nbformat_minor": 4
}
