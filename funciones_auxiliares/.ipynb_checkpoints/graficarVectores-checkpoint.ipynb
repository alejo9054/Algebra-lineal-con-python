{
 "cells": [
  {
   "cell_type": "code",
   "execution_count": 1,
   "metadata": {},
   "outputs": [],
   "source": [
    "#definiendo una funcion para graficar vectores\n",
    "def graficarVectores(vecs, cols, alpha =1):\n",
    "#vecs= vectores, cols = colores, alpha =1 la transparencia que quiero que tengan los colores\n",
    "    plt.figure() #inicializar la figura\n",
    "    plt.axvline(x=0, color=\"grey\", zorder=0)#agregando eje vertical, cruza en x=0 y su color es gris, el oreden de z es 0\n",
    "    plt.axhline(y=0, color=\"grey\", zorder = 0)#igual para el eje horizontal\n",
    "    \n",
    "    #recocrriendo los vectores uno por uno\n",
    "    for i in range(len(vecs)): #len nos dice la longitud de los vectores\n",
    "        \n",
    "        x = np.concatenate([[0,0], vecs[i]])#Concatenamos los vectores con el valor (0,0)\n",
    "        #esto se hace ya que siempre se necesita un origen en los vectores ara poderlos graficar\n",
    "        #con x = np.concatenate([0,0]) decimos que todos los vectores tienen origen (0,0)\n",
    "        \n",
    "        plt.quiver([x[0]],#los graficamos recordar q esta funcion es para 2d\n",
    "                   [x[1]],\n",
    "                   [x[2]],\n",
    "                   [x[3]],\n",
    "                   angles='xy', scale_units='xy', scale =1,# definimos unidades de  angulos y escalas como xy, la escala a graficar es 1\n",
    "                  color=cols[i],#agrega los colores q indiquemos\n",
    "                  alpha = alpha)#define el alpha de transparencia por defecto o el que le indiquemos\n",
    "        "
   ]
  },
  {
   "cell_type": "code",
   "execution_count": 2,
   "metadata": {},
   "outputs": [],
   "source": [
    "def graficarVectores2(vecs, cols,alpha = 1):\n",
    "    plt.axvline(x=0,  color = \"grey\", zorder = 0)\n",
    "    plt.axhline(y=0,  color = \"grey\", zorder = 0)\n",
    "    \n",
    "    for i in range(len(vecs)):\n",
    "        x = np.concatenate([[0,0], vecs[i]])\n",
    "        plt.quiver([x[0]],\n",
    "                   [x[1]],\n",
    "                   [x[2]],\n",
    "                   [x[3]],\n",
    "                   angles = 'xy', scale_units = 'xy',\n",
    "                   scale = 1,\n",
    "                   color = cols[i],\n",
    "                   alpha = alpha\n",
    "                    )"
   ]
  },
  {
   "cell_type": "code",
   "execution_count": null,
   "metadata": {},
   "outputs": [],
   "source": []
  },
  {
   "cell_type": "code",
   "execution_count": null,
   "metadata": {},
   "outputs": [],
   "source": []
  }
 ],
 "metadata": {
  "kernelspec": {
   "display_name": "Python 3",
   "language": "python",
   "name": "python3"
  },
  "language_info": {
   "codemirror_mode": {
    "name": "ipython",
    "version": 3
   },
   "file_extension": ".py",
   "mimetype": "text/x-python",
   "name": "python",
   "nbconvert_exporter": "python",
   "pygments_lexer": "ipython3",
   "version": "3.8.5"
  }
 },
 "nbformat": 4,
 "nbformat_minor": 4
}
