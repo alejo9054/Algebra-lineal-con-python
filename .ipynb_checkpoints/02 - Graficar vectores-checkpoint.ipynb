{
 "cells": [
  {
   "cell_type": "code",
   "execution_count": 1,
   "metadata": {},
   "outputs": [],
   "source": [
    "%matplotlib inline\n",
    "\n",
    "import numpy as np\n",
    "import matplotlib.pyplot as plt\n"
   ]
  },
  {
   "cell_type": "code",
   "execution_count": 2,
   "metadata": {},
   "outputs": [],
   "source": [
    "#definiendo vectores\n",
    "v1 = np.array([2,5])\n",
    "v2 = np.array([3,2])"
   ]
  },
  {
   "cell_type": "code",
   "execution_count": 15,
   "metadata": {},
   "outputs": [],
   "source": [
    "#definiendo una funcion para graficar vectores\n",
    "def graficarVectores(vecs, cols, alpha =1):\n",
    "#vecs= vectores, cols = colores, alpha =1 la transparencia que quiero que tengan los colores\n",
    "    plt.figure() #inicializar la figura\n",
    "    plt.axvline(x=0, color=\"grey\", zorder=0)#agregando eje vertical, cruza en x=0 y su color es gris, el oreden de z es 0\n",
    "    plt.axhline(y=0, color=\"grey\", zorder = 0)#igual para el eje horizontal\n",
    "    \n",
    "    #recocrriendo los vectores uno por uno\n",
    "    for i in range(len(vecs)): #len nos dice la longitud de los vectores\n",
    "        \n",
    "        x = np.concatenate([[0,0], vecs[i]])#Concatenamos los vectores con el valor (0,0)\n",
    "        #esto se hace ya que siempre se necesita un origen en los vectores ara poderlos graficar\n",
    "        #con x = np.concatenate([0,0]) decimos que todos los vectores tienen origen (0,0)\n",
    "        \n",
    "        plt.quiver([x[0]],#los graficamos recordar q esta funcion es para 2d\n",
    "                   [x[1]],\n",
    "                   [x[2]],\n",
    "                   [x[3]],\n",
    "                   angles='xy', scale_units='xy', scale =1,# definimos unidades de  angulos y escalas como xy, la escala a graficar es 1\n",
    "                  color=cols[i],#agrega los colores q indiquemos\n",
    "                  alpha = alpha)#define el alpha de transparencia por defecto o el que le indiquemos\n",
    "        "
   ]
  },
  {
   "cell_type": "code",
   "execution_count": 17,
   "metadata": {},
   "outputs": [
    {
     "data": {
      "text/plain": [
       "(-1.0, 8.0)"
      ]
     },
     "execution_count": 17,
     "metadata": {},
     "output_type": "execute_result"
    },
    {
     "data": {
      "image/png": "[encoded data removed]",
      "text/plain": [
       "<Figure size 432x288 with 1 Axes>"
      ]
     },
     "metadata": {
      "needs_background": "light"
     },
     "output_type": "display_data"
    }
   ],
   "source": [
    "graficarVectores([v1,v2], ['orange','blue'])\n",
    "#agregando los limites\n",
    "plt.xlim(-1,8)\n",
    "plt.ylim(-1,8)"
   ]
  },
  {
   "cell_type": "code",
   "execution_count": 24,
   "metadata": {},
   "outputs": [],
   "source": [
    "#variante para que agregue los limites de la grafica de manera automatica\n",
    "def graficarVectores2(vectores,colores,alpha=1):\n",
    "#Se determina el área de la gráfica\n",
    "    plt.figure()\n",
    "# se dibijan los ejems\n",
    "    plt.axvline(x=0,color=\"grey\",zorder=0)\n",
    "    plt.axhline(y=0,color=\"grey\",zorder=0)\n",
    "    min_x = 0\n",
    "    max_x = 0\n",
    "    min_y = 0\n",
    "    max_y = 0\n",
    "    for m in range(len(vectores)):\n",
    "        min_x = min(vectores[m][0],min_x) \n",
    "        max_x = max(vectores[m][0],max_x)  \n",
    "        min_y = min(vectores[m][1],min_y)\n",
    "        max_y = max(vectores[m][1],max_y)  \n",
    "    plt.xlim(min_x-1,max_x+1)\n",
    "    plt.ylim(min_y-1,max_y+1)\n",
    "\n",
    "    for n in range(len(vectores)):\n",
    "            x = np.concatenate([[0,0],vectores[n]])\n",
    "            plt.quiver([x[0]],\n",
    "                       [x[1]],\n",
    "                       [x[2]],\n",
    "                       [x[3]],\n",
    "                      angles='xy',scale_units='xy',scale=1,\n",
    "                      color=colores[n],\n",
    "                      alpha=alpha)"
   ]
  },
  {
   "cell_type": "code",
   "execution_count": 25,
   "metadata": {},
   "outputs": [
    {
     "data": {
      "image/png": "[encoded data removed]",
      "text/plain": [
       "<Figure size 432x288 with 1 Axes>"
      ]
     },
     "metadata": {
      "needs_background": "light"
     },
     "output_type": "display_data"
    }
   ],
   "source": [
    "graficarVectores2([v1,v2], ['orange','blue'])"
   ]
  },
  {
   "cell_type": "code",
   "execution_count": null,
   "metadata": {},
   "outputs": [],
   "source": []
  }
 ],
 "metadata": {
  "kernelspec": {
   "display_name": "Python 3",
   "language": "python",
   "name": "python3"
  },
  "language_info": {
   "codemirror_mode": {
    "name": "ipython",
    "version": 3
   },
   "file_extension": ".py",
   "mimetype": "text/x-python",
   "name": "python",
   "nbconvert_exporter": "python",
   "pygments_lexer": "ipython3",
   "version": "3.8.5"
  }
 },
 "nbformat": 4,
 "nbformat_minor": 4
}
