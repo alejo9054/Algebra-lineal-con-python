{
 "cells": [
  {
   "cell_type": "markdown",
   "metadata": {},
   "source": [
    "import numpy as np"
   ]
  },
  {
   "cell_type": "code",
   "execution_count": 2,
   "metadata": {},
   "outputs": [
    {
     "name": "stdout",
     "output_type": "stream",
     "text": [
      "[[1 2 3]\n",
      " [4 5 6]\n",
      " [7 8 9]]\n"
     ]
    }
   ],
   "source": [
    "matriz = np.array([\n",
    "                    [1,2,3],\n",
    "                    [4,5,6],\n",
    "                    [7,8,9],\n",
    "                    ])\n",
    "print(matriz)"
   ]
  },
  {
   "cell_type": "code",
   "execution_count": 3,
   "metadata": {},
   "outputs": [
    {
     "name": "stdout",
     "output_type": "stream",
     "text": [
      "15\n"
     ]
    }
   ],
   "source": [
    "traza = np.trace(matriz)\n",
    "print(traza)"
   ]
  },
  {
   "cell_type": "code",
   "execution_count": 4,
   "metadata": {},
   "outputs": [],
   "source": [
    "#la traza es la suma de los elementos que tiene la diagonal principal\n"
   ]
  },
  {
   "cell_type": "code",
   "execution_count": 5,
   "metadata": {},
   "outputs": [],
   "source": [
    "#“El determinante de una matriz nos habla de la transformacion que ejerce esa matriz sobre el espacio que estra transformando\n",
    "#si el determinante es negativo significa q se esta haciendo un espejo  del espacio vectorial\n",
    "# El determinante nos da información sobre la transformación que ejerce una matriz sobre el espacio que está transformando.\n",
    "# El valor absoluto del determinante está relacionado con la ampliación de ese espacio al aplicar la matriz.\n",
    "# El signo del determinante puede indicar que la matriz ejerce una rotación sobre los ejes.\n",
    "%matplotlib inline\n",
    "%run \".\\\\funciones_auxiliares\\\\graficarVectores.ipynb\"\n",
    "import matplotlib.pyplot as plt"
   ]
  },
  {
   "cell_type": "code",
   "execution_count": 7,
   "metadata": {},
   "outputs": [
    {
     "data": {
      "text/plain": [
       "(-0.25, 2.0)"
      ]
     },
     "execution_count": 7,
     "metadata": {},
     "output_type": "execute_result"
    },
    {
     "data": {
      "image/png": "[encoded data removed]",
      "text/plain": [
       "<Figure size 432x288 with 1 Axes>"
      ]
     },
     "metadata": {
      "needs_background": "light"
     },
     "output_type": "display_data"
    }
   ],
   "source": [
    "v1 = np.array([0,1])\n",
    "v2 = np.array([1,0])\n",
    "\n",
    "graficarVectores([v1,v2],[\"blue\",\"red\"])\n",
    "plt.xlim(-0.25,2)\n",
    "plt.ylim(-0.25,2)"
   ]
  },
  {
   "cell_type": "code",
   "execution_count": 8,
   "metadata": {},
   "outputs": [
    {
     "name": "stdout",
     "output_type": "stream",
     "text": [
      "[[2 0]\n",
      " [0 2]]\n"
     ]
    }
   ],
   "source": [
    "#esta matriz tiene un cambio en la amplitud\n",
    "A= np.array([\n",
    "            [2,0],\n",
    "            [0,2]\n",
    "            ])\n",
    "print(A)"
   ]
  },
  {
   "cell_type": "code",
   "execution_count": 11,
   "metadata": {},
   "outputs": [
    {
     "data": {
      "image/png": "[encoded data removed]",
      "text/plain": [
       "<Figure size 432x288 with 1 Axes>"
      ]
     },
     "metadata": {
      "needs_background": "light"
     },
     "output_type": "display_data"
    }
   ],
   "source": [
    "v1_transformado = A.dot(v1)\n",
    "v2_transformado = A.dot(v2)\n",
    "\n",
    "graficarVectores([v1_transformado,v2_transformado],[\"orange\",\"green\"])\n",
    "plt.xlim(-0.25,2)\n",
    "plt.ylim(-0.25,2)\n",
    "\n",
    "plt.show()"
   ]
  },
  {
   "cell_type": "code",
   "execution_count": 12,
   "metadata": {},
   "outputs": [
    {
     "name": "stdout",
     "output_type": "stream",
     "text": [
      "4.0\n"
     ]
    }
   ],
   "source": [
    "det_A = np.linalg.det(A)\n",
    "print(det_A)\n",
    "#quiere decir que si tomamos el cuadrado unitario, aumento 4 veces"
   ]
  },
  {
   "cell_type": "code",
   "execution_count": 14,
   "metadata": {},
   "outputs": [
    {
     "name": "stdout",
     "output_type": "stream",
     "text": [
      "4\n"
     ]
    }
   ],
   "source": [
    "#verificando que esa es el area transformada\n",
    "area_transformada = abs((v1_transformado[0]-v2_transformado[0]))*abs(v1_transformado[1]-v2_transformado[1])\n",
    "print(area_transformada)"
   ]
  },
  {
   "cell_type": "code",
   "execution_count": 16,
   "metadata": {},
   "outputs": [
    {
     "name": "stdout",
     "output_type": "stream",
     "text": [
      "[[-2  0]\n",
      " [ 0  2]]\n"
     ]
    }
   ],
   "source": [
    "#ahora para un determinante negativo\n",
    "B = A * [-1,1]\n",
    "print(B)"
   ]
  },
  {
   "cell_type": "code",
   "execution_count": 17,
   "metadata": {},
   "outputs": [
    {
     "name": "stdout",
     "output_type": "stream",
     "text": [
      "-4.0\n"
     ]
    }
   ],
   "source": [
    "det_B = np.linalg.det(B)\n",
    "print(det_B)"
   ]
  },
  {
   "cell_type": "code",
   "execution_count": 19,
   "metadata": {},
   "outputs": [
    {
     "data": {
      "text/plain": [
       "(-3.0, 3.0)"
      ]
     },
     "execution_count": 19,
     "metadata": {},
     "output_type": "execute_result"
    },
    {
     "data": {
      "image/png": "[encoded data removed]",
      "text/plain": [
       "<Figure size 432x288 with 1 Axes>"
      ]
     },
     "metadata": {
      "needs_background": "light"
     },
     "output_type": "display_data"
    }
   ],
   "source": [
    "v1 = np.array([0,1])\n",
    "v2 = np.array([1,0])\n",
    "v1_transformado = B.dot(v1)\n",
    "v2_transformado = B.dot(v2)\n",
    "graficarVectores([v1_transformado,v2_transformado,v1,v2],[\"blue\",\"red\",'orange','green'])\n",
    "plt.xlim(-3,3)\n",
    "plt.ylim(-3,3)\n"
   ]
  },
  {
   "cell_type": "code",
   "execution_count": null,
   "metadata": {},
   "outputs": [],
   "source": [
    "#al tener un menos el determinante nos dice que hubo una rotacion aunque, no nos  dice en que dirección."
   ]
  }
 ],
 "metadata": {
  "kernelspec": {
   "display_name": "Python 3",
   "language": "python",
   "name": "python3"
  },
  "language_info": {
   "codemirror_mode": {
    "name": "ipython",
    "version": 3
   },
   "file_extension": ".py",
   "mimetype": "text/x-python",
   "name": "python",
   "nbconvert_exporter": "python",
   "pygments_lexer": "ipython3",
   "version": "3.8.5"
  }
 },
 "nbformat": 4,
 "nbformat_minor": 4
}
