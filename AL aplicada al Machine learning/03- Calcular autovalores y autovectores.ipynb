{
 "cells": [
  {
   "cell_type": "code",
   "execution_count": 1,
   "metadata": {},
   "outputs": [],
   "source": [
    "#como calcular autovalores y autovectores"
   ]
  },
  {
   "cell_type": "code",
   "execution_count": 2,
   "metadata": {},
   "outputs": [],
   "source": [
    "%matplotlib inline\n",
    "import numpy as np\n",
    "import matplotlib.pyplot as plt"
   ]
  },
  {
   "cell_type": "code",
   "execution_count": 4,
   "metadata": {},
   "outputs": [
    {
     "name": "stdout",
     "output_type": "stream",
     "text": [
      "[[3 2]\n",
      " [4 1]]\n"
     ]
    }
   ],
   "source": [
    "#definimos una matriz a la que le queremos calcular los autovalores y autovectores\n",
    "X = np.array([\n",
    "            [3,2],\n",
    "            [4,1]\n",
    "            ])\n",
    "print(X)"
   ]
  },
  {
   "cell_type": "code",
   "execution_count": 5,
   "metadata": {},
   "outputs": [
    {
     "name": "stdout",
     "output_type": "stream",
     "text": [
      "(array([ 5., -1.]), array([[ 0.70710678, -0.4472136 ],\n",
      "       [ 0.70710678,  0.89442719]]))\n"
     ]
    }
   ],
   "source": [
    "print(np.linalg.eig(X))# funcion en aleman gracias al que desarrollo el algoritmo para calcuar autovalores y autovectores.\n"
   ]
  },
  {
   "cell_type": "code",
   "execution_count": 6,
   "metadata": {},
   "outputs": [
    {
     "name": "stdout",
     "output_type": "stream",
     "text": [
      "[ 5. -1.]\n"
     ]
    }
   ],
   "source": [
    "autovalores, autovectores =np.linalg.eig(X)\n",
    "print(autovalores)"
   ]
  },
  {
   "cell_type": "code",
   "execution_count": 9,
   "metadata": {},
   "outputs": [
    {
     "name": "stdout",
     "output_type": "stream",
     "text": [
      "[3 4]\n",
      "[0.70710678 0.70710678]\n"
     ]
    }
   ],
   "source": [
    "#ahora pidamosle los autovectores de la columna 0\n",
    "print(X[:,0])#columna 0\n",
    "print(autovectores[:,0])#autovalores columna 0"
   ]
  },
  {
   "cell_type": "code",
   "execution_count": 10,
   "metadata": {},
   "outputs": [
    {
     "name": "stdout",
     "output_type": "stream",
     "text": [
      "[-0.4472136   0.89442719]\n"
     ]
    }
   ],
   "source": [
    "#ahora el autovector de la columna 1\n",
    "print(autovectores[:,1])"
   ]
  },
  {
   "cell_type": "code",
   "execution_count": 11,
   "metadata": {},
   "outputs": [],
   "source": [
    "#estos valores no se parecen a los que teniamos antes, vamos a graficarlos"
   ]
  },
  {
   "cell_type": "code",
   "execution_count": 12,
   "metadata": {},
   "outputs": [],
   "source": [
    "%run \"..\\\\funciones_auxiliares\\\\graficarVectores.ipynb\""
   ]
  },
  {
   "cell_type": "code",
   "execution_count": 15,
   "metadata": {},
   "outputs": [],
   "source": [
    "v = np.array([[-1],[2]])#este vector es un autovector quevimos en la clase anterior para esta matriz\n",
    "Xv = X.dot(v) #aplicamos el producto interno\n",
    "v_np = autovectores[:,1]"
   ]
  },
  {
   "cell_type": "code",
   "execution_count": 17,
   "metadata": {},
   "outputs": [
    {
     "data": {
      "text/plain": [
       "(-4.0, 3.0)"
      ]
     },
     "execution_count": 17,
     "metadata": {},
     "output_type": "execute_result"
    },
    {
     "data": {
      "image/png": "[encoded data removed]",
      "text/plain": [
       "<Figure size 432x288 with 1 Axes>"
      ]
     },
     "metadata": {
      "needs_background": "light"
     },
     "output_type": "display_data"
    }
   ],
   "source": [
    "#comparamos el autovector que salio con el algoritmo y el que sacamos en la clase anterior\n",
    "graficarVectores([Xv.flatten(), v.flatten(),v_np], cols = ['green','orange','blue'])\n",
    "\n",
    "plt.xlim(-7,3)\n",
    "plt.ylim(-4,3)"
   ]
  },
  {
   "cell_type": "code",
   "execution_count": null,
   "metadata": {},
   "outputs": [],
   "source": [
    "#efectivamente los 3 son el mismo vector, conservan su direccion, lo unico q cambia es su amplitud y sentido,\n",
    "#es decir que lo que cambia es el autovalor\n",
    "##conclusion\n",
    "#los autovectores no cambian, solo cambian los autovalores \n",
    "#o dicho de otra forma los autovectores siempre son los mismos solo cambian en magnitud es decir son multiplos"
   ]
  }
 ],
 "metadata": {
  "kernelspec": {
   "display_name": "Python 3",
   "language": "python",
   "name": "python3"
  },
  "language_info": {
   "codemirror_mode": {
    "name": "ipython",
    "version": 3
   },
   "file_extension": ".py",
   "mimetype": "text/x-python",
   "name": "python",
   "nbconvert_exporter": "python",
   "pygments_lexer": "ipython3",
   "version": "3.8.5"
  }
 },
 "nbformat": 4,
 "nbformat_minor": 4
}
