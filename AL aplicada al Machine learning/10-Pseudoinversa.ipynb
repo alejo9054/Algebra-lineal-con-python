{
 "cells": [
  {
   "cell_type": "code",
   "execution_count": 1,
   "metadata": {},
   "outputs": [],
   "source": [
    "# Resumen\n",
    "\n",
    "# La pseudo inversa de Moore Penrose es utilizada cuando en un sistema de ecuaciones lineales representado por Ax = B, x no tiene inversa.\n",
    "# La pseudo inversa de MP es única y existe si se verifican 4 condiciones.\n",
    "# Para calcularla se siguen los siguientes pasos:\n",
    "# Calcular las matrices U, D, y V (matrices SVD) de A.\n",
    "# Construir D_pse: una matriz de ceros que tiene igual dimension de A, y que luego se transpone.\n",
    "# Reemplazar la submatriz D_pse[: D.shape[0], : D.shape[0]] por np.linalg.inv(np.diag(D))\n",
    "# Reconstruir pseudoinversa: A_pse = V.T.dot(D_pse).dot(U.T)\n",
    "# Notas\n",
    "\n",
    "# Para calcularla automaticamente por Python: np.linalg.pinv(A)\n",
    "# Lo que obtenemos con A_pse es una matriz muy cercana a la inversa. Cercano en el sentido de que minimiza la norma dos de estas distancias. O sea, de estos errores que estamos cometiendo.\n",
    "# A_pse no es conmutativa, es decir, A_pse·A ≠ A·A_pse\n",
    "\n",
    "import numpy as np\n",
    "\n",
    "#no mostrar numeros cercanos a cero\n",
    "np.set_printoptions(suppress=True)"
   ]
  },
  {
   "cell_type": "code",
   "execution_count": 2,
   "metadata": {},
   "outputs": [
    {
     "name": "stdout",
     "output_type": "stream",
     "text": [
      "[[ 2  3]\n",
      " [ 5  7]\n",
      " [11 13]]\n"
     ]
    }
   ],
   "source": [
    "A= np.array([[2,3],\n",
    "            [5,7],\n",
    "            [11,13],\n",
    "            ])\n",
    "print(A)"
   ]
  },
  {
   "cell_type": "code",
   "execution_count": 4,
   "metadata": {},
   "outputs": [
    {
     "name": "stdout",
     "output_type": "stream",
     "text": [
      "U\n",
      "[[-0.18499741 -0.47276624 -0.86154979]\n",
      " [-0.44249308 -0.74271297  0.50257071]\n",
      " [-0.87748267  0.4742041  -0.07179582]]\n",
      "D\n",
      "[19.40321383  0.71783924]\n",
      "V\n",
      "[[-0.63055377 -0.77614557]\n",
      " [ 0.77614557 -0.63055377]]\n"
     ]
    }
   ],
   "source": [
    "#si se puede calcular la psudoinversa de Moore Penrose existe y es unica\n",
    "U,D,V = np.linalg.svd(A)\n",
    "print(\"U\")\n",
    "print(U)\n",
    "print(\"D\")\n",
    "print(D)\n",
    "print(\"V\")\n",
    "print(V)\n"
   ]
  },
  {
   "cell_type": "code",
   "execution_count": 5,
   "metadata": {},
   "outputs": [
    {
     "name": "stdout",
     "output_type": "stream",
     "text": [
      "[[0. 0. 0.]\n",
      " [0. 0. 0.]]\n"
     ]
    }
   ],
   "source": [
    "#para calcular creamos una matriz de ceros, con la forma de D, la transponemos y colocamos la inversa de la matriz de valores singulares\n",
    "D_pse = np.zeros((A.shape[0],A.shape[1])).T\n",
    "print(D_pse)"
   ]
  },
  {
   "cell_type": "code",
   "execution_count": 6,
   "metadata": {},
   "outputs": [
    {
     "name": "stdout",
     "output_type": "stream",
     "text": [
      "Valores a reemplazar en D_pse\n",
      "[[0. 0.]\n",
      " [0. 0.]]\n"
     ]
    }
   ],
   "source": [
    "print(\"Valores a reemplazar en D_pse\")\n",
    "print(D_pse[:D.shape[0],:D.shape[0]])"
   ]
  },
  {
   "cell_type": "code",
   "execution_count": 7,
   "metadata": {},
   "outputs": [
    {
     "name": "stdout",
     "output_type": "stream",
     "text": [
      "Valores que pondremos en D_pse\n",
      "[[0.05153785 0.        ]\n",
      " [0.         1.39306957]]\n"
     ]
    }
   ],
   "source": [
    "print(\"Valores que pondremos en D_pse\")\n",
    "print(np.linalg.inv(np.diag(D)))"
   ]
  },
  {
   "cell_type": "code",
   "execution_count": 9,
   "metadata": {},
   "outputs": [
    {
     "name": "stdout",
     "output_type": "stream",
     "text": [
      "D_pse\n",
      "[[0.05153785 0.         0.        ]\n",
      " [0.         1.39306957 0.        ]]\n"
     ]
    }
   ],
   "source": [
    "print(\"D_pse\")\n",
    "D_pse[:D.shape[0],:D.shape[0]]=np.linalg.inv(np.diag(D))\n",
    "print(D_pse)"
   ]
  },
  {
   "cell_type": "code",
   "execution_count": 10,
   "metadata": {},
   "outputs": [
    {
     "name": "stdout",
     "output_type": "stream",
     "text": [
      "[[-0.50515464 -0.78865979  0.54123711]\n",
      " [ 0.42268041  0.67010309 -0.3814433 ]]\n"
     ]
    }
   ],
   "source": [
    "#reconstrullendo la pseidoinversa\n",
    "A_pse = V.T.dot(D_pse).dot(U.T)\n",
    "print(A_pse)"
   ]
  },
  {
   "cell_type": "code",
   "execution_count": 12,
   "metadata": {},
   "outputs": [
    {
     "name": "stdout",
     "output_type": "stream",
     "text": [
      "[[-0.50515464 -0.78865979  0.54123711]\n",
      " [ 0.42268041  0.67010309 -0.3814433 ]]\n"
     ]
    }
   ],
   "source": [
    "#calculando la pseudoinversa con numpy\n",
    "A_pse_calc = np.linalg.pinv(A)#este metodo sigue el mismo procedimiento que realizamos\n",
    "print(A_pse_calc)#vemos que es la misma"
   ]
  },
  {
   "cell_type": "code",
   "execution_count": 13,
   "metadata": {},
   "outputs": [
    {
     "name": "stdout",
     "output_type": "stream",
     "text": [
      "[[ 1. -0.]\n",
      " [ 0.  1.]]\n"
     ]
    }
   ],
   "source": [
    "#validando que funcione como una inversa\n",
    "print(A_pse.dot(A))"
   ]
  },
  {
   "cell_type": "code",
   "execution_count": 14,
   "metadata": {},
   "outputs": [
    {
     "name": "stdout",
     "output_type": "stream",
     "text": [
      "[[ 1.00000000e+00 -2.66453526e-15]\n",
      " [ 2.66453526e-15  1.00000000e+00]]\n"
     ]
    }
   ],
   "source": [
    "#ojo no es exactamente una inversa, nos da algo muy cercano a ella, es decir minimiza la norma 2 del error\n",
    "np.set_printoptions(suppress=False)\n",
    "print(A_pse.dot(A))"
   ]
  },
  {
   "cell_type": "code",
   "execution_count": 15,
   "metadata": {},
   "outputs": [
    {
     "name": "stdout",
     "output_type": "stream",
     "text": [
      "[[ 0.25773196  0.43298969 -0.06185567]\n",
      " [ 0.43298969  0.74742268  0.03608247]\n",
      " [-0.06185567  0.03608247  0.99484536]]\n"
     ]
    }
   ],
   "source": [
    "#no tiene la promiedad de una inversa comun A.dot(A_pse) es diferente de A_pse.dot(A)\n",
    "#es decir no son conmutativas\n",
    "print(A.dot(A_pse))"
   ]
  },
  {
   "cell_type": "code",
   "execution_count": 16,
   "metadata": {},
   "outputs": [
    {
     "name": "stdout",
     "output_type": "stream",
     "text": [
      "[[-0.50515464 -0.78865979  0.54123711]\n",
      " [ 0.42268041  0.67010309 -0.3814433 ]]\n"
     ]
    }
   ],
   "source": [
    "#esta es otra psudoinversa que se puede calcular pero cuesta mas computacionalmente y es mas certera\n",
    "#python tiene implementada la q le da uso a SVD\n",
    "A_pse_2 = np.linalg.inv(A.T.dot(A)).dot(A.T)\n",
    "print(A_pse_2)"
   ]
  },
  {
   "cell_type": "code",
   "execution_count": null,
   "metadata": {},
   "outputs": [],
   "source": []
  }
 ],
 "metadata": {
  "kernelspec": {
   "display_name": "Python 3",
   "language": "python",
   "name": "python3"
  },
  "language_info": {
   "codemirror_mode": {
    "name": "ipython",
    "version": 3
   },
   "file_extension": ".py",
   "mimetype": "text/x-python",
   "name": "python",
   "nbconvert_exporter": "python",
   "pygments_lexer": "ipython3",
   "version": "3.8.5"
  }
 },
 "nbformat": 4,
 "nbformat_minor": 4
}
