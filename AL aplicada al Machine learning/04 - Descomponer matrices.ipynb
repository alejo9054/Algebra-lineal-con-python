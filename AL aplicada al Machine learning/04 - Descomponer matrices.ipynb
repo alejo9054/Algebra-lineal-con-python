{
 "cells": [
  {
   "cell_type": "code",
   "execution_count": 1,
   "metadata": {},
   "outputs": [],
   "source": [
    "# Descomponer una matriz: Quiere decir encontrar dos o más matrices que me ayuden a escribir la matriz original y \n",
    "# que tengan ciertas propiedades.\n",
    "# Una matriz A la podemos escribir como: sus autovectores producto punto una matriz diagonal,\n",
    "#     donde la matriz diagonal tiene todos los autovalores encontrados,\n",
    "#     producto punto la matriz inversa de sus autovectores.\n",
    "#### comentarios\n",
    "# la matriz de autovectores que devuelve eig es una matriz ortogornal, por eso cumple la propiedad que utiliza en el minuto 7"
   ]
  },
  {
   "cell_type": "code",
   "execution_count": 3,
   "metadata": {},
   "outputs": [
    {
     "data": {
      "text/html": [
       "<img src=\"https://static.platzi.com/media/user_upload/descomposicion_matrices_1-a1d5f87a-5432-4fac-b3b9-ffe61de66ac1.jpg\"/>"
      ],
      "text/plain": [
       "<IPython.core.display.Image object>"
      ]
     },
     "execution_count": 3,
     "metadata": {},
     "output_type": "execute_result"
    }
   ],
   "source": [
    "from IPython.display import Image\n",
    "from IPython.core.display import HTML \n",
    "Image(url= \"https://static.platzi.com/media/user_upload/descomposicion_matrices_1-a1d5f87a-5432-4fac-b3b9-ffe61de66ac1.jpg\")"
   ]
  },
  {
   "cell_type": "code",
   "execution_count": 1,
   "metadata": {},
   "outputs": [],
   "source": [
    "import numpy as np"
   ]
  },
  {
   "cell_type": "code",
   "execution_count": 2,
   "metadata": {},
   "outputs": [
    {
     "name": "stdout",
     "output_type": "stream",
     "text": [
      "[[3 2]\n",
      " [4 1]]\n"
     ]
    }
   ],
   "source": [
    "A = np.array([\n",
    "    [3,2],\n",
    "    [4,1]])\n",
    "print(A)"
   ]
  },
  {
   "cell_type": "code",
   "execution_count": 3,
   "metadata": {},
   "outputs": [],
   "source": [
    "autovalores, autovectores = np.linalg.eig(A) #sacamos los autovalores y autovectores de la matriz A"
   ]
  },
  {
   "cell_type": "code",
   "execution_count": 4,
   "metadata": {},
   "outputs": [
    {
     "name": "stdout",
     "output_type": "stream",
     "text": [
      "[ 5. -1.]\n",
      "[[ 0.70710678 -0.4472136 ]\n",
      " [ 0.70710678  0.89442719]]\n"
     ]
    }
   ],
   "source": [
    "print(autovalores)\n",
    "print(autovectores)"
   ]
  },
  {
   "cell_type": "code",
   "execution_count": 6,
   "metadata": {},
   "outputs": [],
   "source": [
    "#np.diag(autovalores)  genera una matriz diagonal con el vector que le entregemos, ene ste caso los autovalores\n",
    "#np.linalg.inv(autovectores) entrega la inversa, recordar que para esto la matriz debe ser cuadrada\n",
    "A_calculada = autovectores.dot(np.diag(autovalores)).dot(np.linalg.inv(autovectores))"
   ]
  },
  {
   "cell_type": "code",
   "execution_count": 7,
   "metadata": {},
   "outputs": [
    {
     "name": "stdout",
     "output_type": "stream",
     "text": [
      "[[3. 2.]\n",
      " [4. 1.]]\n"
     ]
    }
   ],
   "source": [
    "print(A_calculada)#vemos que nos devuelve la misma matriz que teniamos antes"
   ]
  },
  {
   "cell_type": "code",
   "execution_count": 8,
   "metadata": {},
   "outputs": [
    {
     "name": "stdout",
     "output_type": "stream",
     "text": [
      "[[ True  True]\n",
      " [ True  True]]\n"
     ]
    }
   ],
   "source": [
    "#### si la matriz es real y simetrica se pueden hacer otras descomposiciones\n",
    "#simetrica =  A=A_transpuesta\n",
    "A = np.array([\n",
    "    [3,2],\n",
    "    [2,3]\n",
    "])\n",
    "#verificamos q esta matriz es simetrica \n",
    "print( A == A.T)"
   ]
  },
  {
   "cell_type": "code",
   "execution_count": 9,
   "metadata": {},
   "outputs": [
    {
     "name": "stdout",
     "output_type": "stream",
     "text": [
      "[5. 1.]\n",
      "[[ 0.70710678 -0.70710678]\n",
      " [ 0.70710678  0.70710678]]\n"
     ]
    }
   ],
   "source": [
    "#calculamos de nuevo autovalores y autovectores\n",
    "autovalores, autovectores = np.linalg.eig(A)\n",
    "print(autovalores)\n",
    "print(autovectores)"
   ]
  },
  {
   "cell_type": "code",
   "execution_count": 10,
   "metadata": {},
   "outputs": [
    {
     "name": "stdout",
     "output_type": "stream",
     "text": [
      "[[3. 2.]\n",
      " [2. 3.]]\n"
     ]
    }
   ],
   "source": [
    "#vemos que podemos reescribirla igual q la anterior\n",
    "# para este caso podemos descomponer esta matriz como A= V.diagonal(lambdas).V.T\n",
    "# V= matriz de vectores propios o autovectores\n",
    "#lambdas= autovalores\n",
    "#V.T = la transpuesta de la matriz de autovectores\n",
    "#recordar que computar la transpuesta es mas sencillo que computar una inversa\n",
    "A_calculada =  autovectores.dot(np.diag(autovalores)).dot(autovectores.T)\n",
    "print(A_calculada) #vemos que se cumple y tenemos los valores iniciales"
   ]
  },
  {
   "cell_type": "code",
   "execution_count": null,
   "metadata": {},
   "outputs": [],
   "source": []
  }
 ],
 "metadata": {
  "kernelspec": {
   "display_name": "Python 3",
   "language": "python",
   "name": "python3"
  },
  "language_info": {
   "codemirror_mode": {
    "name": "ipython",
    "version": 3
   },
   "file_extension": ".py",
   "mimetype": "text/x-python",
   "name": "python",
   "nbconvert_exporter": "python",
   "pygments_lexer": "ipython3",
   "version": "3.8.5"
  }
 },
 "nbformat": 4,
 "nbformat_minor": 4
}
