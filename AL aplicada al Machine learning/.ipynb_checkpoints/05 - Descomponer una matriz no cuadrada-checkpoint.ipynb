{
 "cells": [
  {
   "cell_type": "code",
   "execution_count": 1,
   "metadata": {},
   "outputs": [],
   "source": [
    "#SVD o UDV\n",
    "#es una forma de descomponer una matriz no cuadrada\n",
    "#la matriz se divide en 3 U,D,V\n",
    "# U y V son ortogonales\n",
    "# D es una matriz diagonal con los valores singulares\n",
    "# V tiene los vectores derechos singulares \n",
    "# U tiene los vectores izquierdos singulares\n",
    "# estas matrices no tienen por que tener las mismas dimensiones\n",
    "# la diagonal podria ser no cuadrada\n",
    "# los vectores y matrices pueden ser pensados como subtransformaciones del espacio\n",
    "#si tenemos una matriz de 3x2 se podria decir que estamos transformando un espacio de R3 y convertirlo a R2\n",
    "# es decir estamos condensando informacion del tercer eje dentro de los unicos 2 ejes q vamos a conservar"
   ]
  },
  {
   "cell_type": "code",
   "execution_count": 3,
   "metadata": {},
   "outputs": [],
   "source": [
    "import numpy as np"
   ]
  },
  {
   "cell_type": "code",
   "execution_count": 4,
   "metadata": {},
   "outputs": [
    {
     "name": "stdout",
     "output_type": "stream",
     "text": [
      "[[1 2 3]\n",
      " [3 4 5]]\n"
     ]
    }
   ],
   "source": [
    "A = np.array([\n",
    "    [1,2,3],\n",
    "    [3,4,5]\n",
    "])\n",
    "print(A)"
   ]
  },
  {
   "cell_type": "code",
   "execution_count": 5,
   "metadata": {},
   "outputs": [],
   "source": [
    "U , D, V = np.linalg.svd(A)"
   ]
  },
  {
   "cell_type": "code",
   "execution_count": 6,
   "metadata": {},
   "outputs": [
    {
     "name": "stdout",
     "output_type": "stream",
     "text": [
      "[[-0.46410668  0.88577931]\n",
      " [-0.88577931 -0.46410668]]\n"
     ]
    }
   ],
   "source": [
    "print(U)"
   ]
  },
  {
   "cell_type": "code",
   "execution_count": 7,
   "metadata": {},
   "outputs": [
    {
     "name": "stdout",
     "output_type": "stream",
     "text": [
      "[7.97638869 0.61418515]\n"
     ]
    }
   ],
   "source": [
    "print(D) #la funcion nos entrega un vector para ahorrar espacio "
   ]
  },
  {
   "cell_type": "code",
   "execution_count": 8,
   "metadata": {},
   "outputs": [
    {
     "name": "stdout",
     "output_type": "stream",
     "text": [
      "[[7.97638869 0.        ]\n",
      " [0.         0.61418515]]\n"
     ]
    }
   ],
   "source": [
    "print(np.diag(D))# aqui acomodamos el vector de los valores singulares en una matrz diagonal"
   ]
  },
  {
   "cell_type": "code",
   "execution_count": 9,
   "metadata": {},
   "outputs": [
    {
     "name": "stdout",
     "output_type": "stream",
     "text": [
      "[[-0.39133557 -0.5605708  -0.72980603]\n",
      " [-0.8247362  -0.13817999  0.54837623]\n",
      " [ 0.40824829 -0.81649658  0.40824829]]\n"
     ]
    }
   ],
   "source": [
    "print(V)"
   ]
  },
  {
   "cell_type": "code",
   "execution_count": 18,
   "metadata": {},
   "outputs": [],
   "source": [
    "#para volver a la matriz original hay q agregar columnas de 0 a la matriz D para que quede dentro de las dimensiones que se \n",
    "#puedan operar\n",
    "#para este caso U es 2x2, D es de 2x2, y V es de 3x3. Entonces tenemos que volver D de 2X3 para que se puedan operar "
   ]
  },
  {
   "cell_type": "code",
   "execution_count": 31,
   "metadata": {},
   "outputs": [
    {
     "name": "stdout",
     "output_type": "stream",
     "text": [
      "[[7.97638869 0.         0.        ]\n",
      " [0.         0.61418515 0.        ]]\n"
     ]
    }
   ],
   "source": [
    "vector_ceros = np.zeros((2,1))\n",
    "matriz_D = np.concatenate((np.diag(D),vector_ceros),axis =1)\n",
    "print(matriz_D)"
   ]
  },
  {
   "cell_type": "code",
   "execution_count": 33,
   "metadata": {},
   "outputs": [
    {
     "name": "stdout",
     "output_type": "stream",
     "text": [
      "[[1. 2. 3.]\n",
      " [3. 4. 5.]]\n"
     ]
    }
   ],
   "source": [
    "#ahora comprobamos \n",
    "Matriz_reconstruida = U.dot(matriz_D).dot(V)\n",
    "print(Matriz_reconstruida)#vemos que si se cumple"
   ]
  },
  {
   "cell_type": "code",
   "execution_count": 35,
   "metadata": {},
   "outputs": [
    {
     "name": "stdout",
     "output_type": "stream",
     "text": [
      "[[3 1 4 2]\n",
      " [2 1 3 2]\n",
      " [3 4 3 4]]\n"
     ]
    }
   ],
   "source": [
    "#########comentario op\n",
    "#Hice esta pequeña funcion para comprobar con matrices aleatorias\n",
    "# la descomposicion por valores singulares.\n",
    "# En la función verifico que las dimensiones de las matrices concuerden para realizar la operacion,\n",
    "# y si no es asi, les agrego las columnas extras para que coincidan. La dejo aqui por si quieren practicar tambien\n",
    "\n",
    "# Matrices aleatorias:\n"
   ]
  },
  {
   "cell_type": "code",
   "execution_count": 66,
   "metadata": {},
   "outputs": [],
   "source": [
    "# Descomposicion:\n",
    "def SVD(A):\n",
    "    U,D,V = np.linalg.svd(A)\n",
    "    D = np.diag(D)\n",
    "    if D.shape[1] != V.shape[0]:\n",
    "        n_columns = np.abs(D.shape[0]-V.shape[0])\n",
    "        extend = np.zeros(( D.shape[0] , n_columns ))\n",
    "        D = np.append(D, extend, axis=1)# tambien se puede usar la funsion concatenate\n",
    "    \n",
    "    return U,D,V"
   ]
  },
  {
   "cell_type": "code",
   "execution_count": 67,
   "metadata": {},
   "outputs": [
    {
     "name": "stdout",
     "output_type": "stream",
     "text": [
      "[[4 2 2 3]\n",
      " [2 1 4 4]\n",
      " [4 4 3 2]]\n",
      "[[-0.55017495  0.13113548  0.82468843]\n",
      " [-0.54684223 -0.80295078 -0.23713629]\n",
      " [-0.63108724  0.58144091 -0.51347382]]\n",
      "[[10.20356146  0.          0.          0.        ]\n",
      " [ 0.          2.98803025  0.          0.        ]\n",
      " [ 0.          0.          1.39964597  0.        ]]\n",
      "[[-0.57026492 -0.40883187 -0.50776198 -0.49983217]\n",
      " [ 0.41646299  0.59741156 -0.40334579 -0.55404889]\n",
      " [ 0.55055769 -0.45844073 -0.59985866  0.35621329]\n",
      " [-0.44524457  0.51554634 -0.46867849  0.56241419]]\n"
     ]
    }
   ],
   "source": [
    "B = np.random.randint(1,5, size=(3,4))# crea una matriz con valores random de forma 3,4\n",
    "print(B)\n",
    "U,D,V = SVD(B)\n",
    "print(U)\n",
    "print(D)\n",
    "print(V)"
   ]
  },
  {
   "cell_type": "code",
   "execution_count": 68,
   "metadata": {},
   "outputs": [
    {
     "name": "stdout",
     "output_type": "stream",
     "text": [
      "[[4. 2. 2. 3.]\n",
      " [2. 1. 4. 4.]\n",
      " [4. 4. 3. 2.]]\n"
     ]
    }
   ],
   "source": [
    "Matriz_reconstruida = U.dot(D).dot(V)\n",
    "print(Matriz_reconstruida)#vemos que si se cumple"
   ]
  },
  {
   "cell_type": "code",
   "execution_count": null,
   "metadata": {},
   "outputs": [],
   "source": []
  }
 ],
 "metadata": {
  "kernelspec": {
   "display_name": "Python 3",
   "language": "python",
   "name": "python3"
  },
  "language_info": {
   "codemirror_mode": {
    "name": "ipython",
    "version": 3
   },
   "file_extension": ".py",
   "mimetype": "text/x-python",
   "name": "python",
   "nbconvert_exporter": "python",
   "pygments_lexer": "ipython3",
   "version": "3.8.5"
  }
 },
 "nbformat": 4,
 "nbformat_minor": 4
}
