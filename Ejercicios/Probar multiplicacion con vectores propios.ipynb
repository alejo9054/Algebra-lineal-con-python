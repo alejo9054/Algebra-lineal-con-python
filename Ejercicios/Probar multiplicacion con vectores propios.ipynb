{
 "cells": [
  {
   "cell_type": "code",
   "execution_count": 19,
   "metadata": {},
   "outputs": [],
   "source": [
    "import numpy as np\n",
    "import math  \n"
   ]
  },
  {
   "cell_type": "code",
   "execution_count": 20,
   "metadata": {},
   "outputs": [
    {
     "name": "stdout",
     "output_type": "stream",
     "text": [
      "[[0 1]\n",
      " [1 1]]\n"
     ]
    }
   ],
   "source": [
    "A=np.array([[0,1],[1,1]])\n",
    "print(A)"
   ]
  },
  {
   "cell_type": "code",
   "execution_count": 35,
   "metadata": {},
   "outputs": [
    {
     "name": "stdout",
     "output_type": "stream",
     "text": [
      "[[ 8 13]\n",
      " [13 21]]\n"
     ]
    }
   ],
   "source": [
    "A_2=A.dot(A).dot(A).dot(A).dot(A).dot(A).dot(A)\n",
    "print(A_2)"
   ]
  },
  {
   "cell_type": "code",
   "execution_count": 23,
   "metadata": {},
   "outputs": [
    {
     "name": "stdout",
     "output_type": "stream",
     "text": [
      "[[ 2.          2.        ]\n",
      " [ 3.23606798 -1.23606798]]\n"
     ]
    }
   ],
   "source": [
    "matriz_propia=np.array([[2,2],[1+math.sqrt(5),1-math.sqrt(5)]])\n",
    "print(matriz_propia)"
   ]
  },
  {
   "cell_type": "code",
   "execution_count": 33,
   "metadata": {},
   "outputs": [
    {
     "name": "stdout",
     "output_type": "stream",
     "text": [
      "[[ 1.61803399 -0.        ]\n",
      " [ 0.         -0.61803399]]\n"
     ]
    }
   ],
   "source": [
    "np.set_printoptions(suppress=True)\n",
    "m_p_i= np.linalg.inv(matriz_propia)\n",
    "A_propio=m_p_i.dot(A).dot(matriz_propia)\n",
    "print(A_propio)"
   ]
  },
  {
   "cell_type": "code",
   "execution_count": 39,
   "metadata": {},
   "outputs": [
    {
     "name": "stdout",
     "output_type": "stream",
     "text": [
      "[[29.03444185 -0.        ]\n",
      " [ 0.         -0.03444185]]\n"
     ]
    }
   ],
   "source": [
    "A_propio2=A_propio.dot(A_propio).dot(A_propio).dot(A_propio).dot(A_propio).dot(A_propio).dot(A_propio)\n",
    "print(A_propio2)"
   ]
  },
  {
   "cell_type": "code",
   "execution_count": 40,
   "metadata": {},
   "outputs": [
    {
     "name": "stdout",
     "output_type": "stream",
     "text": [
      "[[ 8. 13.]\n",
      " [13. 21.]]\n"
     ]
    }
   ],
   "source": [
    "A_3= matriz_propia.dot(A_propio2).dot(m_p_i)\n",
    "print(A_3)"
   ]
  },
  {
   "cell_type": "code",
   "execution_count": null,
   "metadata": {},
   "outputs": [],
   "source": []
  }
 ],
 "metadata": {
  "kernelspec": {
   "display_name": "Python 3",
   "language": "python",
   "name": "python3"
  },
  "language_info": {
   "codemirror_mode": {
    "name": "ipython",
    "version": 3
   },
   "file_extension": ".py",
   "mimetype": "text/x-python",
   "name": "python",
   "nbconvert_exporter": "python",
   "pygments_lexer": "ipython3",
   "version": "3.8.5"
  }
 },
 "nbformat": 4,
 "nbformat_minor": 4
}
